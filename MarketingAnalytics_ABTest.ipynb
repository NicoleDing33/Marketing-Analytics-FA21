{
 "cells": [
  {
   "cell_type": "code",
   "execution_count": 3,
   "id": "3c1e482b",
   "metadata": {},
   "outputs": [],
   "source": [
    "import numpy as np\n",
    "import pandas as pd\n",
    "import scipy.stats as stats\n",
    "import statsmodels.stats.api as sms\n",
    "import matplotlib as mpl\n",
    "import matplotlib.pyplot as plt\n",
    "import seaborn as sns\n",
    "from math import ceil\n",
    "\n",
    "%matplotlib inline"
   ]
  },
  {
   "cell_type": "code",
   "execution_count": 4,
   "id": "a0b8f005",
   "metadata": {},
   "outputs": [],
   "source": [
    "df = pd.read_csv('AB_test_data.csv')"
   ]
  },
  {
   "cell_type": "code",
   "execution_count": 5,
   "id": "94cdddc2",
   "metadata": {},
   "outputs": [
    {
     "name": "stdout",
     "output_type": "stream",
     "text": [
      "<class 'pandas.core.frame.DataFrame'>\n",
      "RangeIndex: 130000 entries, 0 to 129999\n",
      "Data columns (total 4 columns):\n",
      " #   Column       Non-Null Count   Dtype \n",
      "---  ------       --------------   ----- \n",
      " 0   purchase_TF  130000 non-null  bool  \n",
      " 1   Variant      130000 non-null  object\n",
      " 2   date         130000 non-null  object\n",
      " 3   id           130000 non-null  object\n",
      "dtypes: bool(1), object(3)\n",
      "memory usage: 3.1+ MB\n"
     ]
    }
   ],
   "source": [
    "df.info()"
   ]
  },
  {
   "cell_type": "code",
   "execution_count": 6,
   "id": "365c8a74",
   "metadata": {},
   "outputs": [
    {
     "data": {
      "text/html": [
       "<div>\n",
       "<style scoped>\n",
       "    .dataframe tbody tr th:only-of-type {\n",
       "        vertical-align: middle;\n",
       "    }\n",
       "\n",
       "    .dataframe tbody tr th {\n",
       "        vertical-align: top;\n",
       "    }\n",
       "\n",
       "    .dataframe thead th {\n",
       "        text-align: right;\n",
       "    }\n",
       "</style>\n",
       "<table border=\"1\" class=\"dataframe\">\n",
       "  <thead>\n",
       "    <tr style=\"text-align: right;\">\n",
       "      <th></th>\n",
       "      <th>purchase_TF</th>\n",
       "      <th>Variant</th>\n",
       "      <th>date</th>\n",
       "      <th>id</th>\n",
       "    </tr>\n",
       "  </thead>\n",
       "  <tbody>\n",
       "    <tr>\n",
       "      <th>0</th>\n",
       "      <td>False</td>\n",
       "      <td>A</td>\n",
       "      <td>2019-11-08</td>\n",
       "      <td>0x25b44a</td>\n",
       "    </tr>\n",
       "    <tr>\n",
       "      <th>1</th>\n",
       "      <td>False</td>\n",
       "      <td>B</td>\n",
       "      <td>2020-08-27</td>\n",
       "      <td>0x46271e</td>\n",
       "    </tr>\n",
       "    <tr>\n",
       "      <th>2</th>\n",
       "      <td>False</td>\n",
       "      <td>A</td>\n",
       "      <td>2020-06-11</td>\n",
       "      <td>0x80b8f1</td>\n",
       "    </tr>\n",
       "    <tr>\n",
       "      <th>3</th>\n",
       "      <td>False</td>\n",
       "      <td>B</td>\n",
       "      <td>2020-08-22</td>\n",
       "      <td>0x8d736d</td>\n",
       "    </tr>\n",
       "    <tr>\n",
       "      <th>4</th>\n",
       "      <td>False</td>\n",
       "      <td>A</td>\n",
       "      <td>2020-08-05</td>\n",
       "      <td>0x96c9c8</td>\n",
       "    </tr>\n",
       "  </tbody>\n",
       "</table>\n",
       "</div>"
      ],
      "text/plain": [
       "   purchase_TF Variant        date        id\n",
       "0        False       A  2019-11-08  0x25b44a\n",
       "1        False       B  2020-08-27  0x46271e\n",
       "2        False       A  2020-06-11  0x80b8f1\n",
       "3        False       B  2020-08-22  0x8d736d\n",
       "4        False       A  2020-08-05  0x96c9c8"
      ]
     },
     "execution_count": 6,
     "metadata": {},
     "output_type": "execute_result"
    }
   ],
   "source": [
    "df.head()"
   ]
  },
  {
   "cell_type": "code",
   "execution_count": 7,
   "id": "c974b35c",
   "metadata": {},
   "outputs": [
    {
     "data": {
      "text/html": [
       "<div>\n",
       "<style scoped>\n",
       "    .dataframe tbody tr th:only-of-type {\n",
       "        vertical-align: middle;\n",
       "    }\n",
       "\n",
       "    .dataframe tbody tr th {\n",
       "        vertical-align: top;\n",
       "    }\n",
       "\n",
       "    .dataframe thead th {\n",
       "        text-align: right;\n",
       "    }\n",
       "</style>\n",
       "<table border=\"1\" class=\"dataframe\">\n",
       "  <thead>\n",
       "    <tr style=\"text-align: right;\">\n",
       "      <th></th>\n",
       "      <th>purchase_TF</th>\n",
       "      <th>Variant</th>\n",
       "      <th>date</th>\n",
       "      <th>id</th>\n",
       "    </tr>\n",
       "  </thead>\n",
       "  <tbody>\n",
       "    <tr>\n",
       "      <th>count</th>\n",
       "      <td>130000</td>\n",
       "      <td>130000</td>\n",
       "      <td>130000</td>\n",
       "      <td>130000</td>\n",
       "    </tr>\n",
       "    <tr>\n",
       "      <th>unique</th>\n",
       "      <td>2</td>\n",
       "      <td>2</td>\n",
       "      <td>396</td>\n",
       "      <td>130000</td>\n",
       "    </tr>\n",
       "    <tr>\n",
       "      <th>top</th>\n",
       "      <td>False</td>\n",
       "      <td>A</td>\n",
       "      <td>2019-12-22</td>\n",
       "      <td>0x9728fb</td>\n",
       "    </tr>\n",
       "    <tr>\n",
       "      <th>freq</th>\n",
       "      <td>110415</td>\n",
       "      <td>125000</td>\n",
       "      <td>384</td>\n",
       "      <td>1</td>\n",
       "    </tr>\n",
       "  </tbody>\n",
       "</table>\n",
       "</div>"
      ],
      "text/plain": [
       "       purchase_TF Variant        date        id\n",
       "count       130000  130000      130000    130000\n",
       "unique           2       2         396    130000\n",
       "top          False       A  2019-12-22  0x9728fb\n",
       "freq        110415  125000         384         1"
      ]
     },
     "execution_count": 7,
     "metadata": {},
     "output_type": "execute_result"
    }
   ],
   "source": [
    "df.describe()"
   ]
  },
  {
   "cell_type": "markdown",
   "id": "3edb6b8a",
   "metadata": {},
   "source": [
    "# Q1"
   ]
  },
  {
   "cell_type": "code",
   "execution_count": 8,
   "id": "1c376f77",
   "metadata": {
    "scrolled": true
   },
   "outputs": [
    {
     "data": {
      "text/html": [
       "<div>\n",
       "<style scoped>\n",
       "    .dataframe tbody tr th:only-of-type {\n",
       "        vertical-align: middle;\n",
       "    }\n",
       "\n",
       "    .dataframe tbody tr th {\n",
       "        vertical-align: top;\n",
       "    }\n",
       "\n",
       "    .dataframe thead th {\n",
       "        text-align: right;\n",
       "    }\n",
       "</style>\n",
       "<table border=\"1\" class=\"dataframe\">\n",
       "  <thead>\n",
       "    <tr style=\"text-align: right;\">\n",
       "      <th>purchase_TF</th>\n",
       "      <th>False</th>\n",
       "      <th>True</th>\n",
       "    </tr>\n",
       "    <tr>\n",
       "      <th>Variant</th>\n",
       "      <th></th>\n",
       "      <th></th>\n",
       "    </tr>\n",
       "  </thead>\n",
       "  <tbody>\n",
       "    <tr>\n",
       "      <th>A</th>\n",
       "      <td>106298</td>\n",
       "      <td>18702</td>\n",
       "    </tr>\n",
       "    <tr>\n",
       "      <th>B</th>\n",
       "      <td>4117</td>\n",
       "      <td>883</td>\n",
       "    </tr>\n",
       "  </tbody>\n",
       "</table>\n",
       "</div>"
      ],
      "text/plain": [
       "purchase_TF   False  True \n",
       "Variant                   \n",
       "A            106298  18702\n",
       "B              4117    883"
      ]
     },
     "execution_count": 8,
     "metadata": {},
     "output_type": "execute_result"
    }
   ],
   "source": [
    "pd.crosstab(df['Variant'], df['purchase_TF'])"
   ]
  },
  {
   "cell_type": "code",
   "execution_count": 9,
   "id": "1815b510",
   "metadata": {},
   "outputs": [],
   "source": [
    "df_A = df[df['Variant'] == 'A']\n",
    "df_B = df[df['Variant'] == 'B']"
   ]
  },
  {
   "cell_type": "code",
   "execution_count": 48,
   "id": "2e724e1c",
   "metadata": {},
   "outputs": [
    {
     "name": "stdout",
     "output_type": "stream",
     "text": [
      "0.149616 0.1766\n"
     ]
    }
   ],
   "source": [
    "p_0 = len(df_A[df_A['purchase_TF'] == True])/len(df_A)\n",
    "p_hat = len(df_B[df_B['purchase_TF'] == True])/len(df_B)\n",
    "print(p_0, p_hat)\n",
    "n = len(df_B)"
   ]
  },
  {
   "cell_type": "code",
   "execution_count": 11,
   "id": "e98ae0d8",
   "metadata": {
    "scrolled": true
   },
   "outputs": [
    {
     "data": {
      "text/plain": [
       "5.349273094732516"
      ]
     },
     "execution_count": 11,
     "metadata": {},
     "output_type": "execute_result"
    }
   ],
   "source": [
    "Z = (p_hat - p_0)/np.sqrt((p_0*(1-p_0)/n))\n",
    "Z"
   ]
  },
  {
   "cell_type": "code",
   "execution_count": 12,
   "id": "62f406a7",
   "metadata": {},
   "outputs": [
    {
     "data": {
      "text/plain": [
       "True"
      ]
     },
     "execution_count": 12,
     "metadata": {},
     "output_type": "execute_result"
    }
   ],
   "source": [
    "1-stats.norm.cdf(Z) < 0.05"
   ]
  },
  {
   "cell_type": "markdown",
   "id": "407c2a1b",
   "metadata": {},
   "source": [
    "# Q2"
   ]
  },
  {
   "cell_type": "code",
   "execution_count": 13,
   "id": "f0c51dc3",
   "metadata": {},
   "outputs": [],
   "source": [
    "alpha = 0.05\n",
    "beta = 0.8\n",
    "p_bar = (p_0+p_hat)/2"
   ]
  },
  {
   "cell_type": "code",
   "execution_count": 14,
   "id": "738be636",
   "metadata": {},
   "outputs": [],
   "source": [
    "var_p_bar = p_bar*(1-p_bar)\n",
    "var_p_0 = p_0*(1-p_0)\n",
    "var_p_hat = p_hat*(1-p_hat)\n",
    "Z_alpha_2 = stats.norm.ppf(alpha/2)\n",
    "Z_beta = stats.norm.ppf(1-beta)"
   ]
  },
  {
   "cell_type": "code",
   "execution_count": 15,
   "id": "b0b2093b",
   "metadata": {},
   "outputs": [],
   "source": [
    "min_sample = ((Z_alpha_2*np.sqrt(2*var_p_bar) + Z_beta*np.sqrt(var_p_0+var_p_hat))**2)/((p_0-p_hat)**2)"
   ]
  },
  {
   "cell_type": "code",
   "execution_count": 16,
   "id": "6a8cb41e",
   "metadata": {
    "scrolled": true
   },
   "outputs": [
    {
     "data": {
      "text/plain": [
       "2941.681403245811"
      ]
     },
     "execution_count": 16,
     "metadata": {},
     "output_type": "execute_result"
    }
   ],
   "source": [
    "min_sample"
   ]
  },
  {
   "cell_type": "code",
   "execution_count": 78,
   "id": "912149cf",
   "metadata": {
    "scrolled": true
   },
   "outputs": [
    {
     "name": "stdout",
     "output_type": "stream",
     "text": [
      "The p-value of sample_0 is 0.000036.\n",
      "The p-value of sample_1 is 0.000228.\n",
      "The p-value of sample_2 is 0.000029.\n",
      "The p-value of sample_3 is 0.000001.\n",
      "The p-value of sample_4 is 0.000002.\n",
      "The p-value of sample_5 is 0.000009.\n",
      "The p-value of sample_6 is 0.000126.\n",
      "The p-value of sample_7 is 0.000000.\n",
      "The p-value of sample_8 is 0.000044.\n",
      "The p-value of sample_9 is 0.000007.\n"
     ]
    }
   ],
   "source": [
    "for i in range(10):\n",
    "    filt = df['Variant'] == 'B'\n",
    "    sample_B = df[filt].sample(n=ceil(min_sample),random_state=i)\n",
    "    sample_A = df[df['Variant'] == 'A']\n",
    "    sample_p_0 = len(sample_A[sample_A['purchase_TF'] == True])/len(sample_A)\n",
    "    samlpe_p_hat = len(sample_B[sample_B['purchase_TF'] == True])/len(sample_B)\n",
    "    Z = (samlpe_p_hat - sample_p_0)/np.sqrt((sample_p_0*(1-sample_p_0)/len(sample_B)))\n",
    "    print('The p-value of sample_%d is %f.'%(i,1-stats.norm.cdf(Z)))"
   ]
  },
  {
   "cell_type": "markdown",
   "id": "3f3bdd3d",
   "metadata": {},
   "source": [
    "# Q3"
   ]
  },
  {
   "cell_type": "code",
   "execution_count": 18,
   "id": "f306674a",
   "metadata": {},
   "outputs": [],
   "source": [
    "import math"
   ]
  },
  {
   "cell_type": "code",
   "execution_count": 47,
   "id": "3451a571",
   "metadata": {},
   "outputs": [
    {
     "name": "stdout",
     "output_type": "stream",
     "text": [
      "2.995732273553991 -1.6094379124341005\n"
     ]
    }
   ],
   "source": [
    "ln_A = math.log(1/alpha)\n",
    "ln_B = math.log(1-beta)\n",
    "print(ln_A, ln_B)"
   ]
  },
  {
   "cell_type": "code",
   "execution_count": 90,
   "id": "9f9bcfbb",
   "metadata": {},
   "outputs": [
    {
     "name": "stdout",
     "output_type": "stream",
     "text": [
      "Accept H1 at 1028 iterations\n",
      "Accept H1 at 673 iterations\n",
      "Accept H1 at 199 iterations\n",
      "Accept H0 at 272 iterations\n",
      "Accept H1 at 1441 iterations\n",
      "Accept H1 at 1495 iterations\n",
      "Accept H1 at 679 iterations\n",
      "Accept H1 at 286 iterations\n",
      "Accept H1 at 500 iterations\n",
      "Accept H1 at 398 iterations\n",
      "The average number of iterations required to stop the test is 697.100000.\n"
     ]
    }
   ],
   "source": [
    "iteration = list()\n",
    "for x in range(10,20):\n",
    "    filt = df['Variant'] == 'B'\n",
    "    sample = df[filt].sample(n=ceil(min_sample),random_state=x)\n",
    "    SPRT = sample[['purchase_TF']].reset_index(drop = True)\n",
    "    SPRT.insert(1, 'log_lamda_i', np.nan)\n",
    "    SPRT.insert(2, 'log_lamda_n', np.nan)\n",
    "    for i in range(SPRT.shape[0]):\n",
    "        if SPRT.iloc[i,0] == True:\n",
    "            SPRT.iloc[i,1] = math.log(p_hat/p_0)\n",
    "        else:\n",
    "            SPRT.iloc[i,1] = math.log((1-p_hat)/(1-p_0))\n",
    "        if i == 0:\n",
    "            SPRT.iloc[i,2] = SPRT.iloc[i,1]\n",
    "        else:\n",
    "            SPRT.iloc[i,2] = SPRT.iloc[i-1,2] + SPRT.iloc[i,1]\n",
    "        if SPRT.iloc[i,2] <= ln_B:\n",
    "            print('Accept H0 at %d iterations' % (i+1))\n",
    "            iteration.append(i+1)\n",
    "            #print(SPRT.iloc[:i,])\n",
    "            break\n",
    "        elif SPRT.iloc[i,2] >= ln_A:\n",
    "            print('Accept H1 at %d iterations' % (i+1))\n",
    "            iteration.append(i+1)\n",
    "            #print(SPRT.iloc[:i,])\n",
    "            break\n",
    "        if i == ceil(min_sample)-1:\n",
    "            print('Not able to stop the test prior to using the full sample.')\n",
    "#print(iteration)\n",
    "print('The average number of iterations required to stop the test is %f.' % (sum(iteration)/len(iteration)))"
   ]
  },
  {
   "cell_type": "code",
   "execution_count": null,
   "id": "b822213d",
   "metadata": {},
   "outputs": [],
   "source": []
  }
 ],
 "metadata": {
  "kernelspec": {
   "display_name": "Python 3",
   "language": "python",
   "name": "python3"
  },
  "language_info": {
   "codemirror_mode": {
    "name": "ipython",
    "version": 3
   },
   "file_extension": ".py",
   "mimetype": "text/x-python",
   "name": "python",
   "nbconvert_exporter": "python",
   "pygments_lexer": "ipython3",
   "version": "3.8.8"
  }
 },
 "nbformat": 4,
 "nbformat_minor": 5
}
