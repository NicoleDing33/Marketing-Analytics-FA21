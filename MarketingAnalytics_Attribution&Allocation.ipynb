{
 "cells": [
  {
   "cell_type": "markdown",
   "id": "7df94908",
   "metadata": {},
   "source": [
    "# Import Data"
   ]
  },
  {
   "cell_type": "code",
   "execution_count": 1,
   "id": "b0ba149a",
   "metadata": {},
   "outputs": [],
   "source": [
    "import pandas as pd\n",
    "import numpy as np"
   ]
  },
  {
   "cell_type": "code",
   "execution_count": 2,
   "id": "367b6479",
   "metadata": {},
   "outputs": [],
   "source": [
    "df = pd.read_csv(\"attribution_allocation_student_data.csv\")"
   ]
  },
  {
   "cell_type": "markdown",
   "id": "a3330913",
   "metadata": {},
   "source": [
    "# Part 1 Attribution"
   ]
  },
  {
   "cell_type": "code",
   "execution_count": 4,
   "id": "670abd9b",
   "metadata": {},
   "outputs": [
    {
     "name": "stdout",
     "output_type": "stream",
     "text": [
      "0\n"
     ]
    }
   ],
   "source": [
    "# Method 1: attribute customers by touch 1\n",
    "print(df['touch1'].isna().sum())"
   ]
  },
  {
   "cell_type": "code",
   "execution_count": 5,
   "id": "8cb05347",
   "metadata": {},
   "outputs": [],
   "source": [
    "df1 = df.pivot_table(values = 'convert_TF',columns = 'tier', index = 'touch1',aggfunc = np.sum)"
   ]
  },
  {
   "cell_type": "code",
   "execution_count": 6,
   "id": "a6caf235",
   "metadata": {},
   "outputs": [],
   "source": [
    "df1['total_num'] = df1[1] + df1[2] + df1[3]\n",
    "df1['total_spend'] = [0,6000,6000,0,6000,6000,6000]\n",
    "df1['CAC'] = df1['total_spend']/df1['total_num']"
   ]
  },
  {
   "cell_type": "code",
   "execution_count": 7,
   "id": "bda6808c",
   "metadata": {},
   "outputs": [
    {
     "data": {
      "text/html": [
       "<div>\n",
       "<style scoped>\n",
       "    .dataframe tbody tr th:only-of-type {\n",
       "        vertical-align: middle;\n",
       "    }\n",
       "\n",
       "    .dataframe tbody tr th {\n",
       "        vertical-align: top;\n",
       "    }\n",
       "\n",
       "    .dataframe thead th {\n",
       "        text-align: right;\n",
       "    }\n",
       "</style>\n",
       "<table border=\"1\" class=\"dataframe\">\n",
       "  <thead>\n",
       "    <tr style=\"text-align: right;\">\n",
       "      <th>tier</th>\n",
       "      <th>1</th>\n",
       "      <th>2</th>\n",
       "      <th>3</th>\n",
       "      <th>total_num</th>\n",
       "      <th>total_spend</th>\n",
       "      <th>CAC</th>\n",
       "    </tr>\n",
       "    <tr>\n",
       "      <th>touch1</th>\n",
       "      <th></th>\n",
       "      <th></th>\n",
       "      <th></th>\n",
       "      <th></th>\n",
       "      <th></th>\n",
       "      <th></th>\n",
       "    </tr>\n",
       "  </thead>\n",
       "  <tbody>\n",
       "    <tr>\n",
       "      <th>direct</th>\n",
       "      <td>1</td>\n",
       "      <td>4</td>\n",
       "      <td>1</td>\n",
       "      <td>6</td>\n",
       "      <td>0</td>\n",
       "      <td>0.000000</td>\n",
       "    </tr>\n",
       "    <tr>\n",
       "      <th>display</th>\n",
       "      <td>435</td>\n",
       "      <td>726</td>\n",
       "      <td>870</td>\n",
       "      <td>2031</td>\n",
       "      <td>6000</td>\n",
       "      <td>2.954210</td>\n",
       "    </tr>\n",
       "    <tr>\n",
       "      <th>email</th>\n",
       "      <td>264</td>\n",
       "      <td>402</td>\n",
       "      <td>618</td>\n",
       "      <td>1284</td>\n",
       "      <td>6000</td>\n",
       "      <td>4.672897</td>\n",
       "    </tr>\n",
       "    <tr>\n",
       "      <th>organic_search</th>\n",
       "      <td>1</td>\n",
       "      <td>7</td>\n",
       "      <td>7</td>\n",
       "      <td>15</td>\n",
       "      <td>0</td>\n",
       "      <td>0.000000</td>\n",
       "    </tr>\n",
       "    <tr>\n",
       "      <th>paid_search</th>\n",
       "      <td>129</td>\n",
       "      <td>211</td>\n",
       "      <td>328</td>\n",
       "      <td>668</td>\n",
       "      <td>6000</td>\n",
       "      <td>8.982036</td>\n",
       "    </tr>\n",
       "    <tr>\n",
       "      <th>referral</th>\n",
       "      <td>1519</td>\n",
       "      <td>2719</td>\n",
       "      <td>3257</td>\n",
       "      <td>7495</td>\n",
       "      <td>6000</td>\n",
       "      <td>0.800534</td>\n",
       "    </tr>\n",
       "    <tr>\n",
       "      <th>social</th>\n",
       "      <td>475</td>\n",
       "      <td>823</td>\n",
       "      <td>982</td>\n",
       "      <td>2280</td>\n",
       "      <td>6000</td>\n",
       "      <td>2.631579</td>\n",
       "    </tr>\n",
       "  </tbody>\n",
       "</table>\n",
       "</div>"
      ],
      "text/plain": [
       "tier               1     2     3  total_num  total_spend       CAC\n",
       "touch1                                                            \n",
       "direct             1     4     1          6            0  0.000000\n",
       "display          435   726   870       2031         6000  2.954210\n",
       "email            264   402   618       1284         6000  4.672897\n",
       "organic_search     1     7     7         15            0  0.000000\n",
       "paid_search      129   211   328        668         6000  8.982036\n",
       "referral        1519  2719  3257       7495         6000  0.800534\n",
       "social           475   823   982       2280         6000  2.631579"
      ]
     },
     "execution_count": 7,
     "metadata": {},
     "output_type": "execute_result"
    }
   ],
   "source": [
    "df1"
   ]
  },
  {
   "cell_type": "code",
   "execution_count": 8,
   "id": "347dfca8",
   "metadata": {},
   "outputs": [],
   "source": [
    "df1.to_csv('touch1.csv')"
   ]
  },
  {
   "cell_type": "code",
   "execution_count": 9,
   "id": "3e50724d",
   "metadata": {},
   "outputs": [],
   "source": [
    "# Method 2: attribute customers by last touch\n",
    "df['LastValue'] = df.ffill(axis=1).iloc[:, -2]"
   ]
  },
  {
   "cell_type": "code",
   "execution_count": 11,
   "id": "33f9a850",
   "metadata": {},
   "outputs": [],
   "source": [
    "df2 = df.pivot_table(values = 'convert_TF',columns = 'tier', index = 'LastValue',aggfunc = np.sum)"
   ]
  },
  {
   "cell_type": "code",
   "execution_count": 12,
   "id": "6a61df99",
   "metadata": {},
   "outputs": [],
   "source": [
    "df2['total_num'] = df2[1] + df2[2] + df2[3]\n",
    "df2['total_spend'] = [0,6000,6000,0,6000,6000,6000]\n",
    "df2['CAC'] = df2['total_spend']/df2['total_num']"
   ]
  },
  {
   "cell_type": "code",
   "execution_count": 13,
   "id": "be8fdaea",
   "metadata": {},
   "outputs": [
    {
     "data": {
      "text/html": [
       "<div>\n",
       "<style scoped>\n",
       "    .dataframe tbody tr th:only-of-type {\n",
       "        vertical-align: middle;\n",
       "    }\n",
       "\n",
       "    .dataframe tbody tr th {\n",
       "        vertical-align: top;\n",
       "    }\n",
       "\n",
       "    .dataframe thead th {\n",
       "        text-align: right;\n",
       "    }\n",
       "</style>\n",
       "<table border=\"1\" class=\"dataframe\">\n",
       "  <thead>\n",
       "    <tr style=\"text-align: right;\">\n",
       "      <th>tier</th>\n",
       "      <th>1</th>\n",
       "      <th>2</th>\n",
       "      <th>3</th>\n",
       "      <th>total_num</th>\n",
       "      <th>total_spend</th>\n",
       "      <th>CAC</th>\n",
       "    </tr>\n",
       "    <tr>\n",
       "      <th>LastValue</th>\n",
       "      <th></th>\n",
       "      <th></th>\n",
       "      <th></th>\n",
       "      <th></th>\n",
       "      <th></th>\n",
       "      <th></th>\n",
       "    </tr>\n",
       "  </thead>\n",
       "  <tbody>\n",
       "    <tr>\n",
       "      <th>direct</th>\n",
       "      <td>1</td>\n",
       "      <td>1</td>\n",
       "      <td>5</td>\n",
       "      <td>7</td>\n",
       "      <td>0</td>\n",
       "      <td>0.000000</td>\n",
       "    </tr>\n",
       "    <tr>\n",
       "      <th>display</th>\n",
       "      <td>528</td>\n",
       "      <td>818</td>\n",
       "      <td>946</td>\n",
       "      <td>2292</td>\n",
       "      <td>6000</td>\n",
       "      <td>2.617801</td>\n",
       "    </tr>\n",
       "    <tr>\n",
       "      <th>email</th>\n",
       "      <td>281</td>\n",
       "      <td>555</td>\n",
       "      <td>655</td>\n",
       "      <td>1491</td>\n",
       "      <td>6000</td>\n",
       "      <td>4.024145</td>\n",
       "    </tr>\n",
       "    <tr>\n",
       "      <th>organic_search</th>\n",
       "      <td>2</td>\n",
       "      <td>4</td>\n",
       "      <td>5</td>\n",
       "      <td>11</td>\n",
       "      <td>0</td>\n",
       "      <td>0.000000</td>\n",
       "    </tr>\n",
       "    <tr>\n",
       "      <th>paid_search</th>\n",
       "      <td>176</td>\n",
       "      <td>347</td>\n",
       "      <td>481</td>\n",
       "      <td>1004</td>\n",
       "      <td>6000</td>\n",
       "      <td>5.976096</td>\n",
       "    </tr>\n",
       "    <tr>\n",
       "      <th>referral</th>\n",
       "      <td>1211</td>\n",
       "      <td>2107</td>\n",
       "      <td>2696</td>\n",
       "      <td>6014</td>\n",
       "      <td>6000</td>\n",
       "      <td>0.997672</td>\n",
       "    </tr>\n",
       "    <tr>\n",
       "      <th>social</th>\n",
       "      <td>625</td>\n",
       "      <td>1060</td>\n",
       "      <td>1275</td>\n",
       "      <td>2960</td>\n",
       "      <td>6000</td>\n",
       "      <td>2.027027</td>\n",
       "    </tr>\n",
       "  </tbody>\n",
       "</table>\n",
       "</div>"
      ],
      "text/plain": [
       "tier               1     2     3  total_num  total_spend       CAC\n",
       "LastValue                                                         \n",
       "direct             1     1     5          7            0  0.000000\n",
       "display          528   818   946       2292         6000  2.617801\n",
       "email            281   555   655       1491         6000  4.024145\n",
       "organic_search     2     4     5         11            0  0.000000\n",
       "paid_search      176   347   481       1004         6000  5.976096\n",
       "referral        1211  2107  2696       6014         6000  0.997672\n",
       "social           625  1060  1275       2960         6000  2.027027"
      ]
     },
     "execution_count": 13,
     "metadata": {},
     "output_type": "execute_result"
    }
   ],
   "source": [
    "df2"
   ]
  },
  {
   "cell_type": "code",
   "execution_count": 14,
   "id": "1e7c2366",
   "metadata": {},
   "outputs": [],
   "source": [
    "df2.to_csv('touch_lastvalue.csv')"
   ]
  },
  {
   "cell_type": "code",
   "execution_count": 15,
   "id": "1dc0f1b9",
   "metadata": {},
   "outputs": [],
   "source": [
    "# Method 3: attribute customers by touch 1 50%, last touch 50%\n",
    "df3 = df1 + df2"
   ]
  },
  {
   "cell_type": "code",
   "execution_count": 17,
   "id": "92452c80",
   "metadata": {},
   "outputs": [],
   "source": [
    "df3['total_num'] = (df3[1] + df3[2] + df3[3])/2\n",
    "df3['total_spend'] = [0,6000,6000,0,6000,6000,6000]\n",
    "df3['CAC'] = df3['total_spend']/df3['total_num']"
   ]
  },
  {
   "cell_type": "code",
   "execution_count": 18,
   "id": "289ffae0",
   "metadata": {},
   "outputs": [
    {
     "data": {
      "text/html": [
       "<div>\n",
       "<style scoped>\n",
       "    .dataframe tbody tr th:only-of-type {\n",
       "        vertical-align: middle;\n",
       "    }\n",
       "\n",
       "    .dataframe tbody tr th {\n",
       "        vertical-align: top;\n",
       "    }\n",
       "\n",
       "    .dataframe thead th {\n",
       "        text-align: right;\n",
       "    }\n",
       "</style>\n",
       "<table border=\"1\" class=\"dataframe\">\n",
       "  <thead>\n",
       "    <tr style=\"text-align: right;\">\n",
       "      <th>tier</th>\n",
       "      <th>1</th>\n",
       "      <th>2</th>\n",
       "      <th>3</th>\n",
       "      <th>total_num</th>\n",
       "      <th>total_spend</th>\n",
       "      <th>CAC</th>\n",
       "    </tr>\n",
       "    <tr>\n",
       "      <th>touch1</th>\n",
       "      <th></th>\n",
       "      <th></th>\n",
       "      <th></th>\n",
       "      <th></th>\n",
       "      <th></th>\n",
       "      <th></th>\n",
       "    </tr>\n",
       "  </thead>\n",
       "  <tbody>\n",
       "    <tr>\n",
       "      <th>direct</th>\n",
       "      <td>2</td>\n",
       "      <td>5</td>\n",
       "      <td>6</td>\n",
       "      <td>6.5</td>\n",
       "      <td>0</td>\n",
       "      <td>0.000000</td>\n",
       "    </tr>\n",
       "    <tr>\n",
       "      <th>display</th>\n",
       "      <td>963</td>\n",
       "      <td>1544</td>\n",
       "      <td>1816</td>\n",
       "      <td>2161.5</td>\n",
       "      <td>6000</td>\n",
       "      <td>2.775850</td>\n",
       "    </tr>\n",
       "    <tr>\n",
       "      <th>email</th>\n",
       "      <td>545</td>\n",
       "      <td>957</td>\n",
       "      <td>1273</td>\n",
       "      <td>1387.5</td>\n",
       "      <td>6000</td>\n",
       "      <td>4.324324</td>\n",
       "    </tr>\n",
       "    <tr>\n",
       "      <th>organic_search</th>\n",
       "      <td>3</td>\n",
       "      <td>11</td>\n",
       "      <td>12</td>\n",
       "      <td>13.0</td>\n",
       "      <td>0</td>\n",
       "      <td>0.000000</td>\n",
       "    </tr>\n",
       "    <tr>\n",
       "      <th>paid_search</th>\n",
       "      <td>305</td>\n",
       "      <td>558</td>\n",
       "      <td>809</td>\n",
       "      <td>836.0</td>\n",
       "      <td>6000</td>\n",
       "      <td>7.177033</td>\n",
       "    </tr>\n",
       "    <tr>\n",
       "      <th>referral</th>\n",
       "      <td>2730</td>\n",
       "      <td>4826</td>\n",
       "      <td>5953</td>\n",
       "      <td>6754.5</td>\n",
       "      <td>6000</td>\n",
       "      <td>0.888297</td>\n",
       "    </tr>\n",
       "    <tr>\n",
       "      <th>social</th>\n",
       "      <td>1100</td>\n",
       "      <td>1883</td>\n",
       "      <td>2257</td>\n",
       "      <td>2620.0</td>\n",
       "      <td>6000</td>\n",
       "      <td>2.290076</td>\n",
       "    </tr>\n",
       "  </tbody>\n",
       "</table>\n",
       "</div>"
      ],
      "text/plain": [
       "tier               1     2     3  total_num  total_spend       CAC\n",
       "touch1                                                            \n",
       "direct             2     5     6        6.5            0  0.000000\n",
       "display          963  1544  1816     2161.5         6000  2.775850\n",
       "email            545   957  1273     1387.5         6000  4.324324\n",
       "organic_search     3    11    12       13.0            0  0.000000\n",
       "paid_search      305   558   809      836.0         6000  7.177033\n",
       "referral        2730  4826  5953     6754.5         6000  0.888297\n",
       "social          1100  1883  2257     2620.0         6000  2.290076"
      ]
     },
     "execution_count": 18,
     "metadata": {},
     "output_type": "execute_result"
    }
   ],
   "source": [
    "df3"
   ]
  },
  {
   "cell_type": "code",
   "execution_count": 19,
   "id": "56736f52",
   "metadata": {},
   "outputs": [],
   "source": [
    "df3.to_csv('touch1&last_value.csv')"
   ]
  },
  {
   "cell_type": "markdown",
   "id": "03420713",
   "metadata": {},
   "source": [
    "# Part 2 Allocation"
   ]
  },
  {
   "cell_type": "markdown",
   "id": "14b354b7",
   "metadata": {},
   "source": [
    "Chose the way of last touch to attribute customers."
   ]
  },
  {
   "cell_type": "markdown",
   "id": "b893e767",
   "metadata": {},
   "source": [
    "Work on the last steps by Excel, see another file."
   ]
  }
 ],
 "metadata": {
  "kernelspec": {
   "display_name": "Python 3",
   "language": "python",
   "name": "python3"
  },
  "language_info": {
   "codemirror_mode": {
    "name": "ipython",
    "version": 3
   },
   "file_extension": ".py",
   "mimetype": "text/x-python",
   "name": "python",
   "nbconvert_exporter": "python",
   "pygments_lexer": "ipython3",
   "version": "3.8.8"
  }
 },
 "nbformat": 4,
 "nbformat_minor": 5
}
